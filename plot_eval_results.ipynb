{
 "cells": [
  {
   "cell_type": "code",
   "execution_count": 1,
   "metadata": {
    "ExecuteTime": {
     "end_time": "2023-07-31T10:09:55.819874651Z",
     "start_time": "2023-07-31T10:09:55.160783753Z"
    }
   },
   "outputs": [],
   "source": [
    "import matplotlib.pyplot as plt\n",
    "from glob import glob\n",
    "from argparse import Namespace\n",
    "from itertools import groupby\n",
    "import data.eval as eval\n",
    "import re\n",
    "from collections import defaultdict\n",
    "import pandas as pd"
   ]
  },
  {
   "cell_type": "code",
   "execution_count": 2,
   "metadata": {
    "ExecuteTime": {
     "end_time": "2023-07-31T10:09:55.831236305Z",
     "start_time": "2023-07-31T10:09:55.821643120Z"
    }
   },
   "outputs": [],
   "source": [
    "gold_files = glob('data/generated_samples/**/Gold/**/*.jsonl', recursive=True)\n",
    "eval_files = glob('data/generated_samples/**/Eval/**/*.jsonl', recursive=True)\n"
   ]
  },
  {
   "cell_type": "code",
   "execution_count": 3,
   "metadata": {
    "ExecuteTime": {
     "end_time": "2023-07-31T10:09:57.732539557Z",
     "start_time": "2023-07-31T10:09:55.828383877Z"
    }
   },
   "outputs": [],
   "source": [
    "def get_model_df(grouped_results):\n",
    "    results_arr = []\n",
    "\n",
    "    for model, files in grouped_results:\n",
    "        for file in files:\n",
    "            epoch = re.match(r'.*_(?P<epoch>\\d+)_.*', file).group(1)\n",
    "\n",
    "            args = Namespace(\n",
    "                results_path=file,\n",
    "                dataset_path='data/instruct_cochrane_gold.json',\n",
    "                label_field_name='gold_label',\n",
    "                lines=True,\n",
    "                rogue_tokens=True\n",
    "            )\n",
    "\n",
    "            results_df, _ = eval.main(args)\n",
    "            results_df['model'] = model\n",
    "            results_df['epoch'] = int(epoch)\n",
    "            results_df.drop(index=['weighted avg'], columns='support', inplace=True)\n",
    "\n",
    "            results_df.set_index(['model', 'epoch', results_df.index], inplace=True)\n",
    "\n",
    "            results_arr.append(results_df)\n",
    "\n",
    "    return pd.concat(results_arr).sort_index()\n",
    "\n",
    "grouped_gold = groupby(sorted(gold_files, key=lambda x: x.split('/')[1]), lambda x: x.split('/')[1])\n",
    "grouped_eval = groupby(sorted(eval_files, key=lambda x: x.split('/')[1]), lambda x: x.split('/')[1])\n",
    "\n",
    "gold_df = get_model_df(grouped_gold)\n",
    "eval_df = get_model_df(grouped_eval)"
   ]
  },
  {
   "cell_type": "code",
   "execution_count": 5,
   "metadata": {
    "ExecuteTime": {
     "end_time": "2023-07-31T10:10:34.703432066Z",
     "start_time": "2023-07-31T10:10:34.515193192Z"
    }
   },
   "outputs": [
    {
     "name": "stdout",
     "output_type": "stream",
     "text": [
      "Index(['generated_samples'], dtype='object', name='model')\n",
      "Axes(0.125,0.11;0.775x0.77)\n",
      "                                   precision    recall  f1-score\n",
      "model             epoch                                         \n",
      "generated_samples 0     Excluded    0.500000  0.034483  0.064516\n",
      "                        Included    0.728155  0.961538  0.828729\n",
      "                        macro avg   0.614078  0.498011  0.446623\n",
      "                        micro avg   0.723810  0.710280  0.716981\n",
      "                  1     Excluded    0.274510  0.965517  0.427481\n",
      "...                                      ...       ...       ...\n",
      "                  15    macro avg   0.649697  0.661720  0.536401\n",
      "                  18    Excluded    0.375000  0.931034  0.534653\n",
      "                        Included    0.944444  0.430380  0.591304\n",
      "                        accuracy    0.564815  0.564815  0.564815\n",
      "                        macro avg   0.659722  0.680707  0.562979\n",
      "\n",
      "[144 rows x 3 columns]\n"
     ]
    },
    {
     "ename": "TypeError",
     "evalue": "'Axes' object is not subscriptable",
     "output_type": "error",
     "traceback": [
      "\u001B[0;31m---------------------------------------------------------------------------\u001B[0m",
      "\u001B[0;31mTypeError\u001B[0m                                 Traceback (most recent call last)",
      "Cell \u001B[0;32mIn[5], line 18\u001B[0m\n\u001B[1;32m     14\u001B[0m         axs[i]\u001B[38;5;241m.\u001B[39mset_ylabel(metric)\n\u001B[1;32m     16\u001B[0m     plt\u001B[38;5;241m.\u001B[39mshow()\n\u001B[0;32m---> 18\u001B[0m \u001B[43mplot_results\u001B[49m\u001B[43m(\u001B[49m\u001B[43mgold_df\u001B[49m\u001B[43m)\u001B[49m\n",
      "Cell \u001B[0;32mIn[5], line 11\u001B[0m, in \u001B[0;36mplot_results\u001B[0;34m(results_df, metric)\u001B[0m\n\u001B[1;32m      9\u001B[0m \u001B[38;5;28mprint\u001B[39m(results_df)\n\u001B[1;32m     10\u001B[0m \u001B[38;5;66;03m#results_df.xs(model).unstack(level=1)[metric].plot(ax=axs[i])\u001B[39;00m\n\u001B[0;32m---> 11\u001B[0m results_df\u001B[38;5;241m.\u001B[39mxs(model)[metric]\u001B[38;5;241m.\u001B[39mplot(ax\u001B[38;5;241m=\u001B[39m\u001B[43maxs\u001B[49m\u001B[43m[\u001B[49m\u001B[43mi\u001B[49m\u001B[43m]\u001B[49m)\n\u001B[1;32m     12\u001B[0m axs[i]\u001B[38;5;241m.\u001B[39mset_title(model)\n\u001B[1;32m     13\u001B[0m axs[i]\u001B[38;5;241m.\u001B[39mset_xlabel(\u001B[38;5;124m'\u001B[39m\u001B[38;5;124mEpoch\u001B[39m\u001B[38;5;124m'\u001B[39m)\n",
      "\u001B[0;31mTypeError\u001B[0m: 'Axes' object is not subscriptable"
     ]
    },
    {
     "data": {
      "text/plain": "<Figure size 2000x500 with 1 Axes>",
      "image/png": "[encoded data removed]"
     },
     "metadata": {},
     "output_type": "display_data"
    }
   ],
   "source": [
    "def plot_results(results_df, metric='f1-score'):\n",
    "    models = results_df.index.get_level_values(0).unique()\n",
    "    print(models)\n",
    "\n",
    "    _, axs = plt.subplots(1, len(models), figsize=(20, 5))\n",
    "    print(axs)\n",
    "\n",
    "    for i, model in enumerate(models):\n",
    "        print(results_df)\n",
    "        #results_df.xs(model).unstack(level=1)[metric].plot(ax=axs[i])\n",
    "        results_df.xs(model)[metric].plot(ax=axs[i])\n",
    "        axs[i].set_title(model)\n",
    "        axs[i].set_xlabel('Epoch')\n",
    "        axs[i].set_ylabel(metric)\n",
    "\n",
    "    plt.show()\n",
    "\n",
    "plot_results(gold_df)"
   ]
  },
  {
   "cell_type": "code",
   "execution_count": null,
   "outputs": [],
   "source": [],
   "metadata": {
    "collapsed": false,
    "ExecuteTime": {
     "end_time": "2023-07-31T10:09:58.212850940Z",
     "start_time": "2023-07-31T10:09:58.209977761Z"
    }
   }
  }
 ],
 "metadata": {
  "kernelspec": {
   "display_name": "sys-rev",
   "language": "python",
   "name": "python3"
  },
  "language_info": {
   "codemirror_mode": {
    "name": "ipython",
    "version": 3
   },
   "file_extension": ".py",
   "mimetype": "text/x-python",
   "name": "python",
   "nbconvert_exporter": "python",
   "pygments_lexer": "ipython3",
   "version": "3.10.6"
  },
  "orig_nbformat": 4
 },
 "nbformat": 4,
 "nbformat_minor": 2
}
